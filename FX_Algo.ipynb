{
  "cells": [
    {
      "cell_type": "markdown",
      "metadata": {
        "id": "view-in-github",
        "colab_type": "text"
      },
      "source": [
        "<a href=\"https://colab.research.google.com/github/JackyOOOO/FX-Deep-learning/blob/main/FX_Algo.ipynb\" target=\"_parent\"><img src=\"https://colab.research.google.com/assets/colab-badge.svg\" alt=\"Open In Colab\"/></a>"
      ]
    },
    {
      "cell_type": "markdown",
      "metadata": {
        "id": "dFLjOr-rEV7n"
      },
      "source": [
        "### Functions and Libraries"
      ]
    },
    {
      "cell_type": "code",
      "execution_count": null,
      "metadata": {
        "colab": {
          "base_uri": "https://localhost:8080/"
        },
        "id": "7Aan1EPVsR6v",
        "outputId": "69082baa-ad0f-4214-94ac-8cd9df56d59c"
      },
      "outputs": [
        {
          "output_type": "stream",
          "name": "stdout",
          "text": [
            "Collecting ta\n",
            "  Downloading ta-0.11.0.tar.gz (25 kB)\n",
            "  Preparing metadata (setup.py) ... \u001b[?25l\u001b[?25hdone\n",
            "Requirement already satisfied: numpy in /usr/local/lib/python3.10/dist-packages (from ta) (1.23.5)\n",
            "Requirement already satisfied: pandas in /usr/local/lib/python3.10/dist-packages (from ta) (1.5.3)\n",
            "Requirement already satisfied: python-dateutil>=2.8.1 in /usr/local/lib/python3.10/dist-packages (from pandas->ta) (2.8.2)\n",
            "Requirement already satisfied: pytz>=2020.1 in /usr/local/lib/python3.10/dist-packages (from pandas->ta) (2023.3.post1)\n",
            "Requirement already satisfied: six>=1.5 in /usr/local/lib/python3.10/dist-packages (from python-dateutil>=2.8.1->pandas->ta) (1.16.0)\n",
            "Building wheels for collected packages: ta\n",
            "  Building wheel for ta (setup.py) ... \u001b[?25l\u001b[?25hdone\n",
            "  Created wheel for ta: filename=ta-0.11.0-py3-none-any.whl size=29413 sha256=1431cfbb0ade1cdb7ff33b63f6c348fcbe3b6a792144f40955b1158457547900\n",
            "  Stored in directory: /root/.cache/pip/wheels/5f/67/4f/8a9f252836e053e532c6587a3230bc72a4deb16b03a829610b\n",
            "Successfully built ta\n",
            "Installing collected packages: ta\n",
            "Successfully installed ta-0.11.0\n",
            "Requirement already satisfied: keras in /usr/local/lib/python3.10/dist-packages (2.14.0)\n"
          ]
        }
      ],
      "source": [
        "!pip install ta\n",
        "!pip install keras"
      ]
    },
    {
      "cell_type": "code",
      "execution_count": null,
      "metadata": {
        "id": "jdzUFN6gr7j7"
      },
      "outputs": [],
      "source": [
        "import pandas as pd\n",
        "import numpy as np\n",
        "from ta import add_all_ta_features\n",
        "from ta.utils import dropna\n",
        "from tensorflow.keras import datasets, layers, models\n",
        "import matplotlib.pyplot as plt\n",
        "import tensorflow as tf\n",
        "from tensorflow import keras\n",
        "# from keras.utils import np_utils\n",
        "# from keras.utils.np_utils import to_categorical\n",
        "from tensorflow.keras import layers\n",
        "from keras.models import Sequential\n",
        "from keras.layers import Dense, Activation,  MaxPooling1D\n",
        "from keras.layers import Reshape\n",
        "from keras.layers import Conv1D\n",
        "from keras.layers import LeakyReLU\n",
        "from keras.layers import BatchNormalization\n",
        "from keras.layers import Flatten\n",
        "from sklearn.metrics import confusion_matrix\n",
        "from keras import optimizers\n",
        "from sklearn.linear_model import SGDClassifier\n",
        "from sklearn.metrics import classification_report\n",
        "from sklearn.preprocessing import StandardScaler # In case loss = NaN\n",
        "\n",
        "import yfinance as yf\n",
        "import datetime as dt"
      ]
    },
    {
      "cell_type": "code",
      "execution_count": null,
      "metadata": {
        "id": "mN4cknZ4sBDp"
      },
      "outputs": [],
      "source": [
        "def label(open_price, m = 6, p = 0.0065) :\n",
        "    #Label y\n",
        "    y = open_price\n",
        "    y_list=[]\n",
        "    for i in range(len(y)-m):\n",
        "        y_value=np.array([y[i:i+m]])\n",
        "        y_list.append(y_value)\n",
        "\n",
        "    label=[]\n",
        "    for b in range(len(y_list)):\n",
        "        for j in range(m):\n",
        "            value=[]\n",
        "            value.append(np.log(y_list[b].reshape(m,1)[j]) - np.log(y_list[b].reshape(m,1)[0]))\n",
        "\n",
        "        down_loc=np.where(np.array(value)< -p )[0]\n",
        "        if (len(down_loc) >= 1):\n",
        "            down_loc = down_loc.reshape(len(down_loc),1)[0]\n",
        "\n",
        "        up_loc=np.where(np.array(value) > p)[0]\n",
        "        if (len(up_loc) >= 1):\n",
        "            up_loc = up_loc.reshape(len(up_loc),1)[0]\n",
        "\n",
        "        if (len(down_loc) >= 1) & (len(up_loc) == 0):\n",
        "            label.append(-1)\n",
        "\n",
        "        if (len(down_loc) == 0) & (len(up_loc) >= 1):\n",
        "            label.append(1)\n",
        "\n",
        "        if (len(down_loc) >= 1) & (len(up_loc) >= 1):\n",
        "            if down_loc[0]>up_loc[0]:\n",
        "                label.append(1)\n",
        "            if down_loc[0]<up_loc[0]:\n",
        "                label.append(-1)\n",
        "\n",
        "        if (len(up_loc) ==0) & (len(down_loc) ==0):\n",
        "            label.append(0)\n",
        "\n",
        "    Y = label\n",
        "    return(label)\n",
        "\n",
        "def encode(label):\n",
        "    '''One hot labeling\n",
        "    args:\n",
        "        label: [list] 1D label array. -1: sell, 1: buy, 0: no action\n",
        "\n",
        "    return:\n",
        "        [list] one hot label. 0: sell, 1: buy, 2: no action( -1 -> [1, 0, 0], 1 -> [0, 1, 0], 0 -> [0, 0, 1])\n",
        "    '''\n",
        "    out = np.zeros((len(label), 3))\n",
        "\n",
        "    for pos, i in enumerate(label):\n",
        "        if i == 1:\n",
        "            out[pos, 1] = 1\n",
        "        elif i == -1:\n",
        "            out[pos, 0] = 1\n",
        "        else:\n",
        "            out[pos, 2] = 1\n",
        "    return out\n",
        "\n",
        "def create_cnn_up(d):\n",
        "\n",
        "    #  Create the convolutional base  #\n",
        "    tf.random.set_seed(0)\n",
        "    model = Sequential()\n",
        "    # model.add(Reshape((-1,4), input_shape=(d,)))\n",
        "    # model.add(Conv1D(128, 2, padding='valid', kernel_initializer='he_uniform'))\n",
        "\n",
        "    model.add(Conv1D(128, 2, padding='valid', kernel_initializer='he_uniform', input_shape=(d,1)))\n",
        "    model.add(Dense(128,activation='softmax', dtype='float32'))\n",
        "    model.add(MaxPooling1D(4))\n",
        "    model.add(layers.Dropout(0.25))\n",
        "    model.add(Conv1D(32, 2, padding='valid', kernel_initializer='he_uniform'))\n",
        "    model.add(layers.BatchNormalization())\n",
        "    model.add(Conv1D(32, 2, padding='valid', kernel_initializer='he_uniform'))\n",
        "    model.add(layers.BatchNormalization())\n",
        "    model.add(Conv1D(16, 2, padding='valid', kernel_initializer='he_uniform'))\n",
        "    model.add(Conv1D(16, 1, padding='valid', kernel_initializer='he_uniform'))\n",
        "\n",
        "    model.add(layers.Dropout(0.75))\n",
        "    model.add(LeakyReLU(alpha=0.01))\n",
        "\n",
        "    model.add(Flatten())\n",
        "    model.add(Dense(3,activation='softmax', dtype='float32'))\n",
        "    opt = tf.keras.optimizers.SGD(learning_rate= 0.01, momentum=0.9, clipnorm = 5)\n",
        "\n",
        "    #          Compile model          #\n",
        "\n",
        "    model.compile(optimizer = opt, loss='categorical_crossentropy', metrics=['accuracy'])\n",
        "\n",
        "    return model\n",
        "\n",
        "def create_cnn_down(d):\n",
        "\n",
        "    #  Create the convolutional base  #\n",
        "    tf.random.set_seed(0)\n",
        "    model = Sequential()\n",
        "    # model.add(Reshape((-1,4), input_shape=(d,)))\n",
        "    # model.add(Conv1D(128, 2, padding='valid', kernel_initializer='he_uniform'))\n",
        "\n",
        "    model.add(Conv1D(128, 2, padding='valid', kernel_initializer='he_uniform', input_shape=(d,1)))\n",
        "    model.add(Dense(128,activation='softmax', dtype='float32'))\n",
        "    model.add(MaxPooling1D(4))\n",
        "    model.add(layers.Dropout(0.5))\n",
        "    model.add(Conv1D(32, 2, padding='valid', kernel_initializer='he_uniform'))\n",
        "    model.add(layers.BatchNormalization())\n",
        "    model.add(Conv1D(32, 2, padding='valid', kernel_initializer='he_uniform'))\n",
        "    model.add(layers.BatchNormalization())\n",
        "    model.add(Conv1D(32, 2, padding='valid', kernel_initializer='he_uniform'))\n",
        "    model.add(Conv1D(16, 1, padding='valid', kernel_initializer='he_uniform'))\n",
        "\n",
        "    model.add(layers.Dropout(0.5))\n",
        "    model.add(LeakyReLU(alpha=0.01))\n",
        "\n",
        "    model.add(Flatten())\n",
        "    model.add(Dense(3,activation='softmax', dtype='float32'))\n",
        "    opt = tf.keras.optimizers.SGD(learning_rate= 0.01, momentum=0.9, clipnorm = 5)\n",
        "\n",
        "    #          Compile model          #\n",
        "\n",
        "    model.compile(optimizer = opt, loss='categorical_crossentropy', metrics=['accuracy'])\n",
        "\n",
        "    return model\n",
        "\n",
        "def fine_tune(model, last_update, end_date=dt.datetime.today(), stock =\"EURUSD=X\", m = 6):\n",
        "    data = yf.download(stock, end = end_date)\n",
        "\n",
        "    last_update_loc = np.where(np.array([str(i).split(' ')[0] for i in data.index])==last_update)[0][0]\n",
        "\n",
        "    if [True if len(data.iloc[last_update_loc+1:,:])>m else False][0]:\n",
        "        ta_df = add_all_ta_features(data.astype(float), open=\"Open\", high=\"High\", low=\"Low\",\n",
        "                                                              close=\"Close\", volume=\"Volume\", fillna = True)\n",
        "        ta_df = ta_df.drop( 'Adj Close', axis = 1)\n",
        "        y = label(open_price = ta_df.Close.astype(float), m = m, p = 0.0065)\n",
        "\n",
        "        y_cnn = encode(y)[last_update_loc+1:]\n",
        "        print(last_update_loc)\n",
        "        trainX = ta_df[:-6].copy()\n",
        "        # testX  = ta_df[-1:].copy()\n",
        "\n",
        "        d =  trainX.shape[1]\n",
        "        mean = trainX.mean()\n",
        "        sd = trainX.std()\n",
        "        trainX = ( trainX -mean ) / sd\n",
        "\n",
        "        trainX = trainX.fillna(0) #additional\n",
        "        trainX = trainX[last_update_loc+1:]\n",
        "        cp_callback = tf.keras.callbacks.EarlyStopping(monitor ='loss', patience = 20)\n",
        "        print('Training Started')\n",
        "        model.fit(trainX, y_cnn, epochs=1000, verbose= 0 ,callbacks=[cp_callback])\n",
        "        print('Training Finished')\n",
        "        print(y_cnn)\n",
        "        print(trainX)\n",
        "        print('latest update '+ str(ta_df[last_update_loc+1:-6].index[-1]).split(' ')[0])\n",
        "\n",
        "    else:\n",
        "      print('This is the latest model')\n",
        "\n",
        "\n",
        "\n"
      ]
    },
    {
      "cell_type": "markdown",
      "metadata": {
        "id": "xpYZnmz2EMnJ"
      },
      "source": [
        "### Market Data & Model Selection\n"
      ]
    },
    {
      "cell_type": "code",
      "execution_count": null,
      "metadata": {
        "colab": {
          "base_uri": "https://localhost:8080/",
          "height": 437
        },
        "id": "Ut5Y77cpsDgo",
        "outputId": "93052a30-5f71-4858-e786-04b60257dec4"
      },
      "outputs": [
        {
          "output_type": "stream",
          "name": "stdout",
          "text": [
            "\r[*********************100%%**********************]  1 of 1 completed\n"
          ]
        },
        {
          "output_type": "execute_result",
          "data": {
            "text/plain": [
              "'2023-12-14 00:00:00'"
            ],
            "application/vnd.google.colaboratory.intrinsic+json": {
              "type": "string"
            }
          },
          "metadata": {},
          "execution_count": 15
        }
      ],
      "source": [
        "# start_date = dt.datetime.today()- dt.timedelta(1256)\n",
        "end_date = dt.datetime.today()\n",
        "stock =\"EURUSD=X\"\n",
        "# data = yf.download(stock, start_date)\n",
        "data = yf.download(stock)\n",
        "\n",
        "ta_df = add_all_ta_features(data.astype(float), open=\"Open\", high=\"High\", low=\"Low\",\n",
        "                                                            close=\"Close\", volume=\"Volume\", fillna = True)\n",
        "ta_df = ta_df.drop( 'Adj Close', axis = 1)\n",
        "\n",
        "str(ta_df.index[-1])"
      ]
    },
    {
      "cell_type": "code",
      "execution_count": null,
      "metadata": {
        "id": "tbcmfjsLsOr3"
      },
      "outputs": [],
      "source": [
        "y = label(open_price = ta_df.Close.astype(float), m = 6, p = 0.0015)\n",
        "\n",
        "y_cnn = encode(y)\n",
        "trainX = ta_df[:-6].copy()\n",
        "testX  = ta_df[-1:].copy()\n",
        "\n",
        "d =  trainX.shape[1]\n",
        "mean = trainX.mean()\n",
        "sd = trainX.std()\n",
        "trainX = ( trainX -mean ) / sd\n",
        "\n",
        "trainX = trainX.fillna(0) #additional"
      ]
    },
    {
      "cell_type": "code",
      "execution_count": null,
      "metadata": {
        "colab": {
          "base_uri": "https://localhost:8080/"
        },
        "id": "M4HtDG0S0u3m",
        "outputId": "55cce8a1-0f8f-4359-e294-7d9fc28b4e8e"
      },
      "outputs": [
        {
          "output_type": "stream",
          "name": "stdout",
          "text": [
            "down 2023\n"
          ]
        }
      ],
      "source": [
        "time = str(ta_df[-1:].index[0]).split('-')[0]\n",
        "# up = ['2013', '2017', '2020']\n",
        "vol_yr_mean = ta_df.Close.pct_change(50).rolling(50).std().groupby(by = ta_df.index.year).mean()\n",
        "\n",
        "if vol_yr_mean.loc[int(time)-1] > 0.0175:\n",
        "    up = True\n",
        "    print('up', time)\n",
        "elif vol_yr_mean.loc[int(time)-1] < 0.01:\n",
        "    up = True\n",
        "    print('up', time)\n",
        "else:\n",
        "    up = False\n",
        "    print('down', time)"
      ]
    },
    {
      "cell_type": "markdown",
      "metadata": {
        "id": "xSs2dAsZDTC_"
      },
      "source": [
        "###Training New Model"
      ]
    },
    {
      "cell_type": "code",
      "execution_count": null,
      "metadata": {
        "id": "EJJNTMMu07vt"
      },
      "outputs": [],
      "source": [
        "# CNN Model\n",
        "model_up = create_cnn_up(d)\n",
        "model_down = create_cnn_down(d)\n",
        "cp_callback = tf.keras.callbacks.EarlyStopping(monitor ='loss', patience = 20)\n",
        "# evt.consoleLog('n_trade_day :', n_trade_day)\n",
        "# evt.consoleLog('n_train :', self.n_train)\n",
        "\n",
        "# if ((n_trade_day// 125) != n_train) :\n",
        "#     n_train = n_trade_day// 125\n",
        "\n",
        "# if ( time in up):\n",
        "if up:\n",
        "    # self.evt.consoleLog('u :', time)\n",
        "    # self.evt.consoleLog('training cnn_model_u')\n",
        "    history_up = model_up.fit(trainX, y_cnn, epochs=1000, verbose= 0 ,callbacks=[cp_callback])\n",
        "\n",
        "else:\n",
        "    # self.evt.consoleLog('d :', time)\n",
        "    # self.evt.consoleLog('training cnn_model_d')\n",
        "    history_down = model_down.fit(trainX, y_cnn, epochs=1000, verbose= 0 ,callbacks=[cp_callback])"
      ]
    },
    {
      "cell_type": "code",
      "execution_count": null,
      "metadata": {
        "colab": {
          "base_uri": "https://localhost:8080/",
          "height": 626
        },
        "id": "d-3mWAi3E4aL",
        "outputId": "859f16a4-fd80-4e74-d217-e7f75cc95ab0"
      },
      "outputs": [
        {
          "output_type": "stream",
          "name": "stdout",
          "text": [
            "[2309, 547, 2338]\n"
          ]
        },
        {
          "output_type": "execute_result",
          "data": {
            "text/plain": [
              "(array([2309.,    0.,    0.,    0.,    0.,  547.,    0.,    0.,    0.,\n",
              "        2338.]),\n",
              " array([-1. , -0.8, -0.6, -0.4, -0.2,  0. ,  0.2,  0.4,  0.6,  0.8,  1. ]),\n",
              " <BarContainer object of 10 artists>)"
            ]
          },
          "metadata": {},
          "execution_count": 19
        },
        {
          "output_type": "display_data",
          "data": {
            "text/plain": [
              "<Figure size 640x480 with 1 Axes>"
            ],
            "image/png": "[encoded data removed]"
          },
          "metadata": {}
        }
      ],
      "source": [
        "import matplotlib.pyplot as plt\n",
        "print([y.count(i) for i in range(-1,2)])\n",
        "plt.hist(y)"
      ]
    },
    {
      "cell_type": "code",
      "execution_count": null,
      "metadata": {
        "colab": {
          "base_uri": "https://localhost:8080/",
          "height": 626
        },
        "id": "CrcUBy0BGZUj",
        "outputId": "2c08254b-0fda-4b79-b5e1-da0678b0aaae"
      },
      "outputs": [
        {
          "output_type": "stream",
          "name": "stdout",
          "text": [
            "[2309, 2338, 547]\n"
          ]
        },
        {
          "output_type": "execute_result",
          "data": {
            "text/plain": [
              "(array([2309.,    0.,    0.,    0.,    0., 2338.,    0.,    0.,    0.,\n",
              "         547.]),\n",
              " array([0. , 0.2, 0.4, 0.6, 0.8, 1. , 1.2, 1.4, 1.6, 1.8, 2. ]),\n",
              " <BarContainer object of 10 artists>)"
            ]
          },
          "metadata": {},
          "execution_count": 20
        },
        {
          "output_type": "display_data",
          "data": {
            "text/plain": [
              "<Figure size 640x480 with 1 Axes>"
            ],
            "image/png": "[encoded data removed]"
          },
          "metadata": {}
        }
      ],
      "source": [
        "train_dist = [np.where(i==1)[0][0] for i in y_cnn]\n",
        "print([train_dist.count(i) for i in range(0,3)])\n",
        "\n",
        "\n",
        "plt.hist(train_dist)"
      ]
    },
    {
      "cell_type": "code",
      "execution_count": null,
      "metadata": {
        "colab": {
          "base_uri": "https://localhost:8080/"
        },
        "id": "Hau4TsYsIa1R",
        "outputId": "fdfdb0e8-5a2a-4b62-c959-87a9cbb184c3"
      },
      "outputs": [
        {
          "output_type": "stream",
          "name": "stdout",
          "text": [
            "2023-12-14 Close Price of EURUSD=X 1.0969723463058472\n",
            "model down used\n",
            "1/1 [==============================] - 0s 149ms/step\n",
            "1/1 [==============================] - 0s 18ms/step\n",
            "[[0.45 0.44 0.1 ]]\n",
            "Sell\n"
          ]
        }
      ],
      "source": [
        "# CNN Model prediction\n",
        "# y_pred_up =  model_up.predict(testX).argmax(axis=1)[0]\n",
        "# y_pred_down =  model_down.predict(testX).argmax(axis=1)[0]\n",
        "# self.evt.consoleLog('y_pred_u :', y_pred_up)\n",
        "# self.evt.consoleLog('y_pred_d :', y_pred_down)\n",
        "print(str(ta_df.index[-1]).split(' ')[0]+ ' Close Price of '+stock+ \" \"+str(data['Close'][-1]))\n",
        "# if ( time in up):\n",
        "if up:\n",
        "    print('model up used')\n",
        "    # y_pred_up =  model_up.predict(testX).argmax(axis=1)[0] #Original\n",
        "    y_pred_up =  model_up.predict(((testX -mean ) / sd).fillna(0)).argmax(axis=1)[0] #Modify\n",
        "    # print(model_up.predict(((testX -mean ) / sd).fillna(0)))\n",
        "\n",
        "    if  int(y_pred_up)  == 0 : # Sell\n",
        "        print('Sell')\n",
        "        # self.sample1( buysell = -1, volume = 0.1)\n",
        "    if  int(y_pred_up) == 1 : # Buy\n",
        "        print('Buy')\n",
        "        # self.sample1( buysell = 1, volume = 0.1)\n",
        "    if  int(y_pred_up) == 2 : # No Action\n",
        "        print('No Action')\n",
        "\n",
        "else:\n",
        "    print('model down used')\n",
        "    # y_pred_down =  model_down.predict(testX).argmax(axis=1)[0] #Original\n",
        "    y_pred_down =  model_down.predict(((testX -mean ) / sd).fillna(0)).argmax(axis=1)[0] #Modify\n",
        "    print(np.round(model_down.predict(((testX -mean ) / sd).fillna(0)),2))\n",
        "    if  int(y_pred_down)  == 0 : # Sell\n",
        "        print('Sell')\n",
        "        # self.sample1( buysell = -1, volume = 0.1)\n",
        "    if  int(y_pred_down) == 1 : # Buy\n",
        "        print('Buy')\n",
        "        # self.sample1( buysell = 1, volume = 0.1)\n",
        "    if  int(y_pred_down) == 2 : # No Action\n",
        "        print('No Action')"
      ]
    },
    {
      "cell_type": "code",
      "source": [
        "plt.plot(data.Close)"
      ],
      "metadata": {
        "colab": {
          "base_uri": "https://localhost:8080/",
          "height": 106
        },
        "id": "HgYbl33FuJIR",
        "outputId": "b6919081-aad7-402e-a0f0-5a3088788db8"
      },
      "execution_count": null,
      "outputs": [
        {
          "output_type": "execute_result",
          "data": {
            "text/plain": [
              "[<matplotlib.lines.Line2D at 0x7a7d0b9e9360>]"
            ]
          },
          "metadata": {},
          "execution_count": 22
        },
        {
          "output_type": "display_data",
          "data": {
            "text/plain": [
              "<Figure size 640x480 with 1 Axes>"
            ],
            "image/png": "[encoded data removed]"
          },
          "metadata": {}
        }
      ]
    },
    {
      "cell_type": "code",
      "execution_count": null,
      "metadata": {
        "colab": {
          "base_uri": "https://localhost:8080/",
          "height": 973
        },
        "id": "Ge8q-bKUlGeP",
        "outputId": "5e4e1a51-6cbd-41d5-84c8-5c294c115732"
      },
      "outputs": [
        {
          "output_type": "stream",
          "name": "stdout",
          "text": [
            "1/1 [==============================] - 0s 19ms/step\n",
            "1/1 [==============================] - 0s 18ms/step\n",
            "1/1 [==============================] - 0s 20ms/step\n",
            "1/1 [==============================] - 0s 20ms/step\n",
            "1/1 [==============================] - 0s 19ms/step\n",
            "1/1 [==============================] - 0s 18ms/step\n",
            "1/1 [==============================] - 0s 19ms/step\n",
            "1/1 [==============================] - 0s 17ms/step\n",
            "1/1 [==============================] - 0s 19ms/step\n",
            "1/1 [==============================] - 0s 19ms/step\n",
            "1/1 [==============================] - 0s 21ms/step\n",
            "1/1 [==============================] - 0s 27ms/step\n",
            "1/1 [==============================] - 0s 21ms/step\n",
            "1/1 [==============================] - 0s 19ms/step\n",
            "1/1 [==============================] - 0s 19ms/step\n",
            "1/1 [==============================] - 0s 19ms/step\n",
            "1/1 [==============================] - 0s 19ms/step\n",
            "1/1 [==============================] - 0s 18ms/step\n",
            "1/1 [==============================] - 0s 20ms/step\n",
            "1/1 [==============================] - 0s 20ms/step\n",
            "1/1 [==============================] - 0s 21ms/step\n",
            "1/1 [==============================] - 0s 20ms/step\n",
            "1/1 [==============================] - 0s 19ms/step\n",
            "1/1 [==============================] - 0s 20ms/step\n",
            "1/1 [==============================] - 0s 23ms/step\n",
            "1/1 [==============================] - 0s 18ms/step\n",
            "1/1 [==============================] - 0s 28ms/step\n",
            "1/1 [==============================] - 0s 19ms/step\n",
            "1/1 [==============================] - 0s 25ms/step\n",
            "1/1 [==============================] - 0s 20ms/step\n",
            "1/1 [==============================] - 0s 19ms/step\n",
            "1/1 [==============================] - 0s 18ms/step\n",
            "1/1 [==============================] - 0s 19ms/step\n",
            "1/1 [==============================] - 0s 24ms/step\n",
            "1/1 [==============================] - 0s 18ms/step\n",
            "1/1 [==============================] - 0s 18ms/step\n",
            "1/1 [==============================] - 0s 19ms/step\n",
            "1/1 [==============================] - 0s 19ms/step\n",
            "1/1 [==============================] - 0s 19ms/step\n",
            "1/1 [==============================] - 0s 19ms/step\n",
            "1/1 [==============================] - 0s 19ms/step\n",
            "1/1 [==============================] - 0s 18ms/step\n",
            "1/1 [==============================] - 0s 21ms/step\n",
            "1/1 [==============================] - 0s 18ms/step\n",
            "1/1 [==============================] - 0s 19ms/step\n",
            "1/1 [==============================] - 0s 19ms/step\n",
            "1/1 [==============================] - 0s 19ms/step\n",
            "1/1 [==============================] - 0s 18ms/step\n",
            "1/1 [==============================] - 0s 18ms/step\n",
            "1/1 [==============================] - 0s 19ms/step\n"
          ]
        },
        {
          "output_type": "execute_result",
          "data": {
            "text/plain": [
              "<matplotlib.legend.Legend at 0x7a7d0b9fe5f0>"
            ]
          },
          "metadata": {},
          "execution_count": 23
        },
        {
          "output_type": "display_data",
          "data": {
            "text/plain": [
              "<Figure size 640x480 with 1 Axes>"
            ],
            "image/png": "[encoded data removed]"
          },
          "metadata": {}
        }
      ],
      "source": [
        "check = [model_down.predict(((pd.DataFrame(np.repeat(0,91)).T -np.random.normal(0,100,size=len(testX.values[0])) )).fillna(0)) for i in range(50)]\n",
        "\n",
        "sell_check = []\n",
        "buy_check = []\n",
        "no_action_check = []\n",
        "sell_check.append([i[0][0] for i in check])\n",
        "buy_check.append([i[0][1] for i in check])\n",
        "no_action_check.append([i[0][2] for i in check])\n",
        "\n",
        "import matplotlib.pyplot as plt\n",
        "plt.plot(sell_check[0])\n",
        "plt.plot(buy_check[0])\n",
        "plt.plot(no_action_check[0])\n",
        "plt.legend(['Sell','Buy','No Action'])"
      ]
    },
    {
      "cell_type": "code",
      "execution_count": null,
      "metadata": {
        "id": "_974neQVmsNY"
      },
      "outputs": [],
      "source": [
        "from google.colab import files\n",
        "#model_down.save('/content/model_down_HKDEUR.h5')\n",
        "# Download the saved model file\n",
        "#files.download('/content/model_down_HKDEUR.h5')"
      ]
    },
    {
      "cell_type": "markdown",
      "metadata": {
        "id": "4YJfALlBP904"
      },
      "source": [
        "### Fine Tune (don't run this for the time being. Need to resovle)"
      ]
    },
    {
      "cell_type": "code",
      "execution_count": null,
      "metadata": {
        "colab": {
          "base_uri": "https://localhost:8080/"
        },
        "id": "1NjFzfDcE19q",
        "outputId": "d1753a1d-176e-4ced-f764-f889a112bf85"
      },
      "outputs": [
        {
          "name": "stdout",
          "output_type": "stream",
          "text": [
            "\r[*********************100%%**********************]  1 of 1 completed\n"
          ]
        },
        {
          "name": "stderr",
          "output_type": "stream",
          "text": [
            "/usr/local/lib/python3.10/dist-packages/ta/trend.py:780: RuntimeWarning: invalid value encountered in double_scalars\n",
            "  dip[idx] = 100 * (self._dip[idx] / value)\n",
            "/usr/local/lib/python3.10/dist-packages/ta/trend.py:785: RuntimeWarning: invalid value encountered in double_scalars\n",
            "  din[idx] = 100 * (self._din[idx] / value)\n"
          ]
        },
        {
          "name": "stdout",
          "output_type": "stream",
          "text": [
            "4785\n",
            "Training Started\n",
            "Training Finished\n",
            "[[0. 1. 0.]]\n",
            "                Open      High       Low     Close  Volume  volume_adi  \\\n",
            "Date                                                                     \n",
            "2023-09-19  1.375484  1.362107  1.393114  1.380662     0.0         0.0   \n",
            "\n",
            "            volume_obv  volume_cmf  volume_fi  volume_em  ...  momentum_ppo  \\\n",
            "Date                                                      ...                 \n",
            "2023-09-19         0.0         0.0        0.0        0.0  ...      0.879595   \n",
            "\n",
            "            momentum_ppo_signal  momentum_ppo_hist  momentum_pvo  \\\n",
            "Date                                                               \n",
            "2023-09-19             0.799931           0.422717           0.0   \n",
            "\n",
            "            momentum_pvo_signal  momentum_pvo_hist  momentum_kama  others_dr  \\\n",
            "Date                                                                           \n",
            "2023-09-19                  0.0                0.0       1.301667  -0.229563   \n",
            "\n",
            "            others_dlr  others_cr  \n",
            "Date                               \n",
            "2023-09-19   -0.230619   1.380662  \n",
            "\n",
            "[1 rows x 91 columns]\n",
            "latest update 2023-09-19\n"
          ]
        }
      ],
      "source": [
        "loaded_model_down = tf.keras.models.load_model('/content/model_down_HKDEUR.h5')\n",
        "fine_tune(loaded_model_down, last_update = '2023-09-19', end_date=dt.datetime.today(), stock = stock, m = 6) #Update the date"
      ]
    },
    {
      "cell_type": "code",
      "execution_count": null,
      "metadata": {
        "colab": {
          "base_uri": "https://localhost:8080/",
          "height": 69
        },
        "id": "DJmm4Mcp37Ez",
        "outputId": "eddf418a-63d7-4346-ea08-6dcb69df5b21"
      },
      "outputs": [
        {
          "name": "stderr",
          "output_type": "stream",
          "text": [
            "/usr/local/lib/python3.10/dist-packages/keras/src/engine/training.py:3000: UserWarning: You are saving your model as an HDF5 file via `model.save()`. This file format is considered legacy. We recommend using instead the native Keras format, e.g. `model.save('my_model.keras')`.\n",
            "  saving_api.save_model(\n"
          ]
        },
        {
          "data": {
            "application/javascript": [
              "\n",
              "    async function download(id, filename, size) {\n",
              "      if (!google.colab.kernel.accessAllowed) {\n",
              "        return;\n",
              "      }\n",
              "      const div = document.createElement('div');\n",
              "      const label = document.createElement('label');\n",
              "      label.textContent = `Downloading \"${filename}\": `;\n",
              "      div.appendChild(label);\n",
              "      const progress = document.createElement('progress');\n",
              "      progress.max = size;\n",
              "      div.appendChild(progress);\n",
              "      document.body.appendChild(div);\n",
              "\n",
              "      const buffers = [];\n",
              "      let downloaded = 0;\n",
              "\n",
              "      const channel = await google.colab.kernel.comms.open(id);\n",
              "      // Send a message to notify the kernel that we're ready.\n",
              "      channel.send({})\n",
              "\n",
              "      for await (const message of channel.messages) {\n",
              "        // Send a message to notify the kernel that we're ready.\n",
              "        channel.send({})\n",
              "        if (message.buffers) {\n",
              "          for (const buffer of message.buffers) {\n",
              "            buffers.push(buffer);\n",
              "            downloaded += buffer.byteLength;\n",
              "            progress.value = downloaded;\n",
              "          }\n",
              "        }\n",
              "      }\n",
              "      const blob = new Blob(buffers, {type: 'application/binary'});\n",
              "      const a = document.createElement('a');\n",
              "      a.href = window.URL.createObjectURL(blob);\n",
              "      a.download = filename;\n",
              "      div.appendChild(a);\n",
              "      a.click();\n",
              "      div.remove();\n",
              "    }\n",
              "  "
            ],
            "text/plain": [
              "<IPython.core.display.Javascript object>"
            ]
          },
          "metadata": {},
          "output_type": "display_data"
        },
        {
          "data": {
            "application/javascript": [
              "download(\"download_3de8faf7-2e20-4d29-8f4e-9cd21f8a1669\", \"model_down_HKDEUR_ft.h5\", 314656)"
            ],
            "text/plain": [
              "<IPython.core.display.Javascript object>"
            ]
          },
          "metadata": {},
          "output_type": "display_data"
        }
      ],
      "source": [
        "from google.colab import files\n",
        "loaded_model_down.save('/content/model_down_HKDEUR_ft.h5')\n",
        "# Download the saved model file\n",
        "files.download('/content/model_down_HKDEUR_ft.h5')"
      ]
    },
    {
      "cell_type": "markdown",
      "metadata": {
        "id": "9tElmy1CHxTo"
      },
      "source": [
        "###Prediction"
      ]
    },
    {
      "cell_type": "code",
      "execution_count": null,
      "metadata": {
        "id": "LYi03Y2PId_w"
      },
      "outputs": [],
      "source": [
        "loaded_model_down = tf.keras.models.load_model('/content/model_down_HKDEUR.h5')"
      ]
    },
    {
      "cell_type": "code",
      "execution_count": null,
      "metadata": {
        "id": "LSuZ9mzxHXlU"
      },
      "outputs": [],
      "source": [
        "# loaded_model_down_ft = tf.keras.models.load_model('/content/model_down_HKDEUR_ft.h5')"
      ]
    },
    {
      "cell_type": "code",
      "execution_count": null,
      "metadata": {
        "colab": {
          "base_uri": "https://localhost:8080/"
        },
        "id": "lV4AsApG06bp",
        "outputId": "7218ad87-0963-4df6-c3e5-9184e9bf40e3"
      },
      "outputs": [
        {
          "name": "stdout",
          "output_type": "stream",
          "text": [
            "2023-10-04 Close Price of HKDEUR=X 0.12168999761343002\n",
            "model down used\n",
            "1/1 [==============================] - 0s 175ms/step\n",
            "1/1 [==============================] - 0s 21ms/step\n",
            "[[0.26 0.24 0.5 ]]\n",
            "No Action\n"
          ]
        }
      ],
      "source": [
        "# CNN Model prediction\n",
        "# y_pred_up =  model_up.predict(testX).argmax(axis=1)[0]\n",
        "# y_pred_down =  model_down.predict(testX).argmax(axis=1)[0]\n",
        "# self.evt.consoleLog('y_pred_u :', y_pred_up)\n",
        "# self.evt.consoleLog('y_pred_d :', y_pred_down)\n",
        "print(str(ta_df.index[-1]).split(' ')[0]+ ' Close Price of '+stock+ \" \"+str(data['Close'][-1]))\n",
        "# if ( time in up):\n",
        "if up:\n",
        "    print('model up used')\n",
        "    # y_pred_up =  model_up.predict(testX).argmax(axis=1)[0] #Original\n",
        "    y_pred_up =  model_up.predict(((testX -mean ) / sd).fillna(0)).argmax(axis=1)[0] #Modify\n",
        "    # print(model_up.predict(((testX -mean ) / sd).fillna(0)))\n",
        "\n",
        "    if  int(y_pred_up)  == 0 : # Sell\n",
        "        print('Sell')\n",
        "        # self.sample1( buysell = -1, volume = 0.1)\n",
        "    if  int(y_pred_up) == 1 : # Buy\n",
        "        print('Buy')\n",
        "        # self.sample1( buysell = 1, volume = 0.1)\n",
        "    if  int(y_pred_up) == 2 : # No Action\n",
        "        print('No Action')\n",
        "\n",
        "else:\n",
        "    print('model down used')\n",
        "    # y_pred_down =  model_down.predict(testX).argmax(axis=1)[0] #Original\n",
        "    y_pred_down =  loaded_model_down.predict(((testX -mean ) / sd).fillna(0)).argmax(axis=1)[0] #Modify\n",
        "    print(np.round(loaded_model_down.predict(((testX -mean ) / sd).fillna(0)),2))\n",
        "    if  int(y_pred_down)  == 0 : # Sell\n",
        "        print('Sell')\n",
        "        # self.sample1( buysell = -1, volume = 0.1)\n",
        "    if  int(y_pred_down) == 1 : # Buy\n",
        "        print('Buy')\n",
        "        # self.sample1( buysell = 1, volume = 0.1)\n",
        "    if  int(y_pred_down) == 2 : # No Action\n",
        "        print('No Action')"
      ]
    },
    {
      "cell_type": "code",
      "execution_count": null,
      "metadata": {
        "colab": {
          "base_uri": "https://localhost:8080/",
          "height": 458
        },
        "id": "PoB7RiEv0S2c",
        "outputId": "12e335dd-9535-4e1a-ef88-8d53e4660fc1"
      },
      "outputs": [
        {
          "name": "stdout",
          "output_type": "stream",
          "text": [
            "\r[*********************100%%**********************]  1 of 1 completed\n"
          ]
        },
        {
          "data": {
            "text/html": [
              "\n",
              "  <div id=\"df-9b049f95-adc1-429a-84e3-d98cf9b24348\" class=\"colab-df-container\">\n",
              "    <div>\n",
              "<style scoped>\n",
              "    .dataframe tbody tr th:only-of-type {\n",
              "        vertical-align: middle;\n",
              "    }\n",
              "\n",
              "    .dataframe tbody tr th {\n",
              "        vertical-align: top;\n",
              "    }\n",
              "\n",
              "    .dataframe thead th {\n",
              "        text-align: right;\n",
              "    }\n",
              "</style>\n",
              "<table border=\"1\" class=\"dataframe\">\n",
              "  <thead>\n",
              "    <tr style=\"text-align: right;\">\n",
              "      <th></th>\n",
              "      <th>Open</th>\n",
              "      <th>High</th>\n",
              "      <th>Low</th>\n",
              "      <th>Close</th>\n",
              "      <th>Adj Close</th>\n",
              "      <th>Volume</th>\n",
              "    </tr>\n",
              "    <tr>\n",
              "      <th>Date</th>\n",
              "      <th></th>\n",
              "      <th></th>\n",
              "      <th></th>\n",
              "      <th></th>\n",
              "      <th></th>\n",
              "      <th></th>\n",
              "    </tr>\n",
              "  </thead>\n",
              "  <tbody>\n",
              "    <tr>\n",
              "      <th>2005-04-06</th>\n",
              "      <td>0.099700</td>\n",
              "      <td>0.099700</td>\n",
              "      <td>0.099450</td>\n",
              "      <td>0.099630</td>\n",
              "      <td>0.099630</td>\n",
              "      <td>0</td>\n",
              "    </tr>\n",
              "    <tr>\n",
              "      <th>2005-04-07</th>\n",
              "      <td>0.099630</td>\n",
              "      <td>0.099830</td>\n",
              "      <td>0.099100</td>\n",
              "      <td>0.099800</td>\n",
              "      <td>0.099800</td>\n",
              "      <td>0</td>\n",
              "    </tr>\n",
              "    <tr>\n",
              "      <th>2005-04-08</th>\n",
              "      <td>0.099770</td>\n",
              "      <td>0.100050</td>\n",
              "      <td>0.099110</td>\n",
              "      <td>0.099110</td>\n",
              "      <td>0.099110</td>\n",
              "      <td>0</td>\n",
              "    </tr>\n",
              "    <tr>\n",
              "      <th>2005-04-11</th>\n",
              "      <td>0.099240</td>\n",
              "      <td>0.099310</td>\n",
              "      <td>0.098630</td>\n",
              "      <td>0.098860</td>\n",
              "      <td>0.098860</td>\n",
              "      <td>0</td>\n",
              "    </tr>\n",
              "    <tr>\n",
              "      <th>2005-04-12</th>\n",
              "      <td>0.098840</td>\n",
              "      <td>0.099630</td>\n",
              "      <td>0.098610</td>\n",
              "      <td>0.099280</td>\n",
              "      <td>0.099280</td>\n",
              "      <td>0</td>\n",
              "    </tr>\n",
              "    <tr>\n",
              "      <th>...</th>\n",
              "      <td>...</td>\n",
              "      <td>...</td>\n",
              "      <td>...</td>\n",
              "      <td>...</td>\n",
              "      <td>...</td>\n",
              "      <td>...</td>\n",
              "    </tr>\n",
              "    <tr>\n",
              "      <th>2023-09-26</th>\n",
              "      <td>0.120783</td>\n",
              "      <td>0.120995</td>\n",
              "      <td>0.120498</td>\n",
              "      <td>0.120781</td>\n",
              "      <td>0.120781</td>\n",
              "      <td>0</td>\n",
              "    </tr>\n",
              "    <tr>\n",
              "      <th>2023-09-27</th>\n",
              "      <td>0.120960</td>\n",
              "      <td>0.121666</td>\n",
              "      <td>0.120919</td>\n",
              "      <td>0.120962</td>\n",
              "      <td>0.120962</td>\n",
              "      <td>0</td>\n",
              "    </tr>\n",
              "    <tr>\n",
              "      <th>2023-09-28</th>\n",
              "      <td>0.121689</td>\n",
              "      <td>0.121765</td>\n",
              "      <td>0.120741</td>\n",
              "      <td>0.121696</td>\n",
              "      <td>0.121696</td>\n",
              "      <td>0</td>\n",
              "    </tr>\n",
              "    <tr>\n",
              "      <th>2023-09-29</th>\n",
              "      <td>0.120900</td>\n",
              "      <td>0.120957</td>\n",
              "      <td>0.120272</td>\n",
              "      <td>0.120914</td>\n",
              "      <td>0.120914</td>\n",
              "      <td>0</td>\n",
              "    </tr>\n",
              "    <tr>\n",
              "      <th>2023-10-02</th>\n",
              "      <td>0.120730</td>\n",
              "      <td>0.120880</td>\n",
              "      <td>0.120730</td>\n",
              "      <td>0.120750</td>\n",
              "      <td>0.120750</td>\n",
              "      <td>0</td>\n",
              "    </tr>\n",
              "  </tbody>\n",
              "</table>\n",
              "<p>4796 rows × 6 columns</p>\n",
              "</div>\n",
              "    <div class=\"colab-df-buttons\">\n",
              "\n",
              "  <div class=\"colab-df-container\">\n",
              "    <button class=\"colab-df-convert\" onclick=\"convertToInteractive('df-9b049f95-adc1-429a-84e3-d98cf9b24348')\"\n",
              "            title=\"Convert this dataframe to an interactive table.\"\n",
              "            style=\"display:none;\">\n",
              "\n",
              "  <svg xmlns=\"http://www.w3.org/2000/svg\" height=\"24px\" viewBox=\"0 -960 960 960\">\n",
              "    <path d=\"M120-120v-720h720v720H120Zm60-500h600v-160H180v160Zm220 220h160v-160H400v160Zm0 220h160v-160H400v160ZM180-400h160v-160H180v160Zm440 0h160v-160H620v160ZM180-180h160v-160H180v160Zm440 0h160v-160H620v160Z\"/>\n",
              "  </svg>\n",
              "    </button>\n",
              "\n",
              "  <style>\n",
              "    .colab-df-container {\n",
              "      display:flex;\n",
              "      gap: 12px;\n",
              "    }\n",
              "\n",
              "    .colab-df-convert {\n",
              "      background-color: #E8F0FE;\n",
              "      border: none;\n",
              "      border-radius: 50%;\n",
              "      cursor: pointer;\n",
              "      display: none;\n",
              "      fill: #1967D2;\n",
              "      height: 32px;\n",
              "      padding: 0 0 0 0;\n",
              "      width: 32px;\n",
              "    }\n",
              "\n",
              "    .colab-df-convert:hover {\n",
              "      background-color: #E2EBFA;\n",
              "      box-shadow: 0px 1px 2px rgba(60, 64, 67, 0.3), 0px 1px 3px 1px rgba(60, 64, 67, 0.15);\n",
              "      fill: #174EA6;\n",
              "    }\n",
              "\n",
              "    .colab-df-buttons div {\n",
              "      margin-bottom: 4px;\n",
              "    }\n",
              "\n",
              "    [theme=dark] .colab-df-convert {\n",
              "      background-color: #3B4455;\n",
              "      fill: #D2E3FC;\n",
              "    }\n",
              "\n",
              "    [theme=dark] .colab-df-convert:hover {\n",
              "      background-color: #434B5C;\n",
              "      box-shadow: 0px 1px 3px 1px rgba(0, 0, 0, 0.15);\n",
              "      filter: drop-shadow(0px 1px 2px rgba(0, 0, 0, 0.3));\n",
              "      fill: #FFFFFF;\n",
              "    }\n",
              "  </style>\n",
              "\n",
              "    <script>\n",
              "      const buttonEl =\n",
              "        document.querySelector('#df-9b049f95-adc1-429a-84e3-d98cf9b24348 button.colab-df-convert');\n",
              "      buttonEl.style.display =\n",
              "        google.colab.kernel.accessAllowed ? 'block' : 'none';\n",
              "\n",
              "      async function convertToInteractive(key) {\n",
              "        const element = document.querySelector('#df-9b049f95-adc1-429a-84e3-d98cf9b24348');\n",
              "        const dataTable =\n",
              "          await google.colab.kernel.invokeFunction('convertToInteractive',\n",
              "                                                    [key], {});\n",
              "        if (!dataTable) return;\n",
              "\n",
              "        const docLinkHtml = 'Like what you see? Visit the ' +\n",
              "          '<a target=\"_blank\" href=https://colab.research.google.com/notebooks/data_table.ipynb>data table notebook</a>'\n",
              "          + ' to learn more about interactive tables.';\n",
              "        element.innerHTML = '';\n",
              "        dataTable['output_type'] = 'display_data';\n",
              "        await google.colab.output.renderOutput(dataTable, element);\n",
              "        const docLink = document.createElement('div');\n",
              "        docLink.innerHTML = docLinkHtml;\n",
              "        element.appendChild(docLink);\n",
              "      }\n",
              "    </script>\n",
              "  </div>\n",
              "\n",
              "\n",
              "<div id=\"df-1a4859b1-0e4d-4148-a595-2a16ce20234f\">\n",
              "  <button class=\"colab-df-quickchart\" onclick=\"quickchart('df-1a4859b1-0e4d-4148-a595-2a16ce20234f')\"\n",
              "            title=\"Suggest charts.\"\n",
              "            style=\"display:none;\">\n",
              "\n",
              "<svg xmlns=\"http://www.w3.org/2000/svg\" height=\"24px\"viewBox=\"0 0 24 24\"\n",
              "     width=\"24px\">\n",
              "    <g>\n",
              "        <path d=\"M19 3H5c-1.1 0-2 .9-2 2v14c0 1.1.9 2 2 2h14c1.1 0 2-.9 2-2V5c0-1.1-.9-2-2-2zM9 17H7v-7h2v7zm4 0h-2V7h2v10zm4 0h-2v-4h2v4z\"/>\n",
              "    </g>\n",
              "</svg>\n",
              "  </button>\n",
              "\n",
              "<style>\n",
              "  .colab-df-quickchart {\n",
              "      --bg-color: #E8F0FE;\n",
              "      --fill-color: #1967D2;\n",
              "      --hover-bg-color: #E2EBFA;\n",
              "      --hover-fill-color: #174EA6;\n",
              "      --disabled-fill-color: #AAA;\n",
              "      --disabled-bg-color: #DDD;\n",
              "  }\n",
              "\n",
              "  [theme=dark] .colab-df-quickchart {\n",
              "      --bg-color: #3B4455;\n",
              "      --fill-color: #D2E3FC;\n",
              "      --hover-bg-color: #434B5C;\n",
              "      --hover-fill-color: #FFFFFF;\n",
              "      --disabled-bg-color: #3B4455;\n",
              "      --disabled-fill-color: #666;\n",
              "  }\n",
              "\n",
              "  .colab-df-quickchart {\n",
              "    background-color: var(--bg-color);\n",
              "    border: none;\n",
              "    border-radius: 50%;\n",
              "    cursor: pointer;\n",
              "    display: none;\n",
              "    fill: var(--fill-color);\n",
              "    height: 32px;\n",
              "    padding: 0;\n",
              "    width: 32px;\n",
              "  }\n",
              "\n",
              "  .colab-df-quickchart:hover {\n",
              "    background-color: var(--hover-bg-color);\n",
              "    box-shadow: 0 1px 2px rgba(60, 64, 67, 0.3), 0 1px 3px 1px rgba(60, 64, 67, 0.15);\n",
              "    fill: var(--button-hover-fill-color);\n",
              "  }\n",
              "\n",
              "  .colab-df-quickchart-complete:disabled,\n",
              "  .colab-df-quickchart-complete:disabled:hover {\n",
              "    background-color: var(--disabled-bg-color);\n",
              "    fill: var(--disabled-fill-color);\n",
              "    box-shadow: none;\n",
              "  }\n",
              "\n",
              "  .colab-df-spinner {\n",
              "    border: 2px solid var(--fill-color);\n",
              "    border-color: transparent;\n",
              "    border-bottom-color: var(--fill-color);\n",
              "    animation:\n",
              "      spin 1s steps(1) infinite;\n",
              "  }\n",
              "\n",
              "  @keyframes spin {\n",
              "    0% {\n",
              "      border-color: transparent;\n",
              "      border-bottom-color: var(--fill-color);\n",
              "      border-left-color: var(--fill-color);\n",
              "    }\n",
              "    20% {\n",
              "      border-color: transparent;\n",
              "      border-left-color: var(--fill-color);\n",
              "      border-top-color: var(--fill-color);\n",
              "    }\n",
              "    30% {\n",
              "      border-color: transparent;\n",
              "      border-left-color: var(--fill-color);\n",
              "      border-top-color: var(--fill-color);\n",
              "      border-right-color: var(--fill-color);\n",
              "    }\n",
              "    40% {\n",
              "      border-color: transparent;\n",
              "      border-right-color: var(--fill-color);\n",
              "      border-top-color: var(--fill-color);\n",
              "    }\n",
              "    60% {\n",
              "      border-color: transparent;\n",
              "      border-right-color: var(--fill-color);\n",
              "    }\n",
              "    80% {\n",
              "      border-color: transparent;\n",
              "      border-right-color: var(--fill-color);\n",
              "      border-bottom-color: var(--fill-color);\n",
              "    }\n",
              "    90% {\n",
              "      border-color: transparent;\n",
              "      border-bottom-color: var(--fill-color);\n",
              "    }\n",
              "  }\n",
              "</style>\n",
              "\n",
              "  <script>\n",
              "    async function quickchart(key) {\n",
              "      const quickchartButtonEl =\n",
              "        document.querySelector('#' + key + ' button');\n",
              "      quickchartButtonEl.disabled = true;  // To prevent multiple clicks.\n",
              "      quickchartButtonEl.classList.add('colab-df-spinner');\n",
              "      try {\n",
              "        const charts = await google.colab.kernel.invokeFunction(\n",
              "            'suggestCharts', [key], {});\n",
              "      } catch (error) {\n",
              "        console.error('Error during call to suggestCharts:', error);\n",
              "      }\n",
              "      quickchartButtonEl.classList.remove('colab-df-spinner');\n",
              "      quickchartButtonEl.classList.add('colab-df-quickchart-complete');\n",
              "    }\n",
              "    (() => {\n",
              "      let quickchartButtonEl =\n",
              "        document.querySelector('#df-1a4859b1-0e4d-4148-a595-2a16ce20234f button');\n",
              "      quickchartButtonEl.style.display =\n",
              "        google.colab.kernel.accessAllowed ? 'block' : 'none';\n",
              "    })();\n",
              "  </script>\n",
              "</div>\n",
              "    </div>\n",
              "  </div>\n"
            ],
            "text/plain": [
              "                Open      High       Low     Close  Adj Close  Volume\n",
              "Date                                                                 \n",
              "2005-04-06  0.099700  0.099700  0.099450  0.099630   0.099630       0\n",
              "2005-04-07  0.099630  0.099830  0.099100  0.099800   0.099800       0\n",
              "2005-04-08  0.099770  0.100050  0.099110  0.099110   0.099110       0\n",
              "2005-04-11  0.099240  0.099310  0.098630  0.098860   0.098860       0\n",
              "2005-04-12  0.098840  0.099630  0.098610  0.099280   0.099280       0\n",
              "...              ...       ...       ...       ...        ...     ...\n",
              "2023-09-26  0.120783  0.120995  0.120498  0.120781   0.120781       0\n",
              "2023-09-27  0.120960  0.121666  0.120919  0.120962   0.120962       0\n",
              "2023-09-28  0.121689  0.121765  0.120741  0.121696   0.121696       0\n",
              "2023-09-29  0.120900  0.120957  0.120272  0.120914   0.120914       0\n",
              "2023-10-02  0.120730  0.120880  0.120730  0.120750   0.120750       0\n",
              "\n",
              "[4796 rows x 6 columns]"
            ]
          },
          "execution_count": 10,
          "metadata": {},
          "output_type": "execute_result"
        }
      ],
      "source": [
        "yf.download(stock)"
      ]
    }
  ],
  "metadata": {
    "accelerator": "GPU",
    "colab": {
      "collapsed_sections": [
        "dFLjOr-rEV7n",
        "xpYZnmz2EMnJ",
        "xSs2dAsZDTC_",
        "4YJfALlBP904",
        "9tElmy1CHxTo"
      ],
      "provenance": [],
      "authorship_tag": "ABX9TyOhL5IOzzTBy4m0bSKbwpTD",
      "include_colab_link": true
    },
    "kernelspec": {
      "display_name": "Python 3",
      "name": "python3"
    },
    "language_info": {
      "name": "python"
    }
  },
  "nbformat": 4,
  "nbformat_minor": 0
}